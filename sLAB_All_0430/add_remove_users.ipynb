{
 "cells": [
  {
   "cell_type": "code",
   "execution_count": 20,
   "metadata": {},
   "outputs": [],
   "source": [
    "import users_mgt as um"
   ]
  },
  {
   "cell_type": "code",
   "execution_count": 21,
   "metadata": {},
   "outputs": [],
   "source": [
    "um.create_user_table()"
   ]
  },
  {
   "cell_type": "code",
   "execution_count": 22,
   "metadata": {
    "scrolled": true
   },
   "outputs": [],
   "source": [
    "um.add_user('James.Chan','00dqa','James.Chan@advantech.com.tw')\n",
    "um.add_user('Gen.Chen','00dqa','Gen.Chen@advantech.com.tw')\n",
    "um.add_user('Richard.Liao','00dqa','Richard.Liao@advantech.com.tw')\n",
    "um.add_user('Bruce.Lee','00dqa','Bruce.Lee@advantech.com.tw')\n",
    "um.add_user('YnigZhe.Liu','00dqa','YnigZhe.Liu@advantech.com.tw')"
   ]
  },
  {
   "cell_type": "code",
   "execution_count": 23,
   "metadata": {},
   "outputs": [
    {
     "name": "stdout",
     "output_type": "stream",
     "text": [
      "('James.Chan', 'James.Chan@advantech.com.tw')\n",
      "('Gen.Chen', 'Gen.Chen@advantech.com.tw')\n",
      "('Richard.Liao', 'Richard.Liao@advantech.com.tw')\n",
      "('Bruce.Lee', 'Bruce.Lee@advantech.com.tw')\n",
      "('YnigZhe.Liu', 'YnigZhe.Liu@advantech.com.tw')\n"
     ]
    }
   ],
   "source": [
    "um.show_users()"
   ]
  },
  {
   "cell_type": "code",
   "execution_count": 18,
   "metadata": {},
   "outputs": [],
   "source": [
    "um.del_user('James2')"
   ]
  },
  {
   "cell_type": "code",
   "execution_count": null,
   "metadata": {},
   "outputs": [],
   "source": []
  },
  {
   "cell_type": "code",
   "execution_count": null,
   "metadata": {},
   "outputs": [],
   "source": []
  },
  {
   "cell_type": "code",
   "execution_count": null,
   "metadata": {},
   "outputs": [],
   "source": []
  },
  {
   "cell_type": "code",
   "execution_count": null,
   "metadata": {},
   "outputs": [],
   "source": []
  }
 ],
 "metadata": {
  "kernelspec": {
   "display_name": "Python 3",
   "language": "python",
   "name": "python3"
  },
  "language_info": {
   "codemirror_mode": {
    "name": "ipython",
    "version": 3
   },
   "file_extension": ".py",
   "mimetype": "text/x-python",
   "name": "python",
   "nbconvert_exporter": "python",
   "pygments_lexer": "ipython3",
   "version": "3.7.3"
  }
 },
 "nbformat": 4,
 "nbformat_minor": 2
}
